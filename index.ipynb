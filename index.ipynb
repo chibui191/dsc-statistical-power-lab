{
 "cells": [
  {
   "cell_type": "markdown",
   "metadata": {},
   "source": [
    "# Statistical Power - Lab\n",
    "\n",
    "## Introduction\n",
    "\n",
    "\n",
    "In this lesson, you'll practice doing a power-analysis during experimental design. As you've seen, power analysis allows you to determine the sample size required to detect an effect of a given size with a given degree of confidence. In other words, it allows you to determine the probability of detecting an effect of a given size with a given level of confidence, under-sample size constraints.\n",
    "\n",
    "The following four factors have an intimate relationship:\n",
    "\n",
    "* Sample size\n",
    "* Effect size\n",
    "* Significance level = P (Type I error) = probability of finding an effect that is not there\n",
    "* **Power = 1 - P (Type II error)** = probability of finding an effect that is there\n",
    "\n",
    "Given any three of these, we can easily determine the fourth.\n",
    "\n",
    "## Objectives\n",
    "\n",
    "In this lab you will: \n",
    "\n",
    "- Describe the impact of sample size and effect size on power \n",
    "- Perform power calculation using SciPy and Python \n",
    "- Demonstrate the combined effect of sample size and effect size on statistical power using simulations\n",
    "\n",
    "## Let's get started!\n",
    "  \n",
    "To start, let's import the necessary libraries required for this simulation: "
   ]
  },
  {
   "cell_type": "code",
   "execution_count": 1,
   "metadata": {},
   "outputs": [],
   "source": [
    "import numpy as np\n",
    "import scipy.stats as stats\n",
    "import pandas as pd\n",
    "from statsmodels.stats.power import TTestIndPower, TTestPower\n",
    "import matplotlib.pyplot as plt\n",
    "import seaborn as sns\n",
    "sns.set_style('darkgrid')\n",
    "import warnings\n",
    "warnings.filterwarnings('ignore')"
   ]
  },
  {
   "cell_type": "markdown",
   "metadata": {},
   "source": [
    "## Scenario\n",
    "\n",
    "A researcher wants to study how daily protein supplementation in the elderly population will affect baseline liver fat. The study budget will allow enrollment of 24 patients. Half will be randomized to a placebo group and half to the protein supplement treatment group and the trial will be carried out over one month. It is desired to see whether the mean change in percentage of liver fat from baseline to the end of the study differs between the two groups in the study. \n",
    "\n",
    "With this, the researcher writes the null hypothesis: \n",
    "\n",
    "    There is no difference between experimental and control group mean change in percentage of liver fat \n",
    "    \n",
    "$$\\mu_{1} = \\mu_{2}$$\n",
    "  \n",
    "And the alternative Hypothesis:\n",
    "\n",
    "    There is a difference between experimental and control group mean change in percentage of liver fat \n",
    "\n",
    "$$\\mu_{1} \\neq \\mu_{2}$$\n",
    "    \n",
    "  \n",
    "\n",
    "The researcher needs to know what power  will be obtained under the sample size restrictions to identify a change in mean percent liver fat of 0.17. Based on past results, a common standard deviation of 0.21 will be used for each treatment group in the power analysis. \n",
    "\n",
    "To determine the practicality of this experimental design, you'll run a power analysis simulation: "
   ]
  },
  {
   "cell_type": "code",
   "execution_count": 2,
   "metadata": {},
   "outputs": [],
   "source": [
    "power_analysis = TTestIndPower()"
   ]
  },
  {
   "cell_type": "code",
   "execution_count": 3,
   "metadata": {},
   "outputs": [
    {
     "name": "stdout",
     "output_type": "stream",
     "text": [
      "Power Obtained: 0.47461695884129296\n"
     ]
    }
   ],
   "source": [
    "# Pre-test power for verification later\n",
    "effect_size = 0.17\n",
    "std = 0.21\n",
    "sample_size=24/2\n",
    "alpha = 0.05\n",
    "normalized_effect_size = effect_size/std\n",
    "\n",
    "power_obtained = power_analysis.solve_power(effect_size=normalized_effect_size,\n",
    "                                            nobs1=sample_size,\n",
    "                                            alpha=alpha)\n",
    "print(f'Power Obtained: {power_obtained}')"
   ]
  },
  {
   "cell_type": "code",
   "execution_count": 4,
   "metadata": {},
   "outputs": [],
   "source": [
    "# Number of patients in each group\n",
    "sample_size = 12\n",
    "\n",
    "# Control group\n",
    "control_mean = 0\n",
    "control_sd = 0.21\n",
    "\n",
    "# Experimental group\n",
    "experimental_mean = 0.17\n",
    "experimental_sd = 0.21\n",
    "\n",
    "# Set the number of simulations for our test = 1000\n",
    "n_sim = 10**3"
   ]
  },
  {
   "cell_type": "markdown",
   "metadata": {},
   "source": [
    "You can now start running simulations to run an independent t-test with above data and store the calculated p-value in our `p` array. Perform following tasks: \n",
    "\n",
    "* Initialize a numpy array and fill it with `NaN` values for storing the results (p_value) of the independent t-test  \n",
    "* For a defined number of simulations (i.e., 1000), do the following:\n",
    "\n",
    "    * Generate a random normal variable with control mean and sd\n",
    "    * Generate a random normal variable with experimental mean and sd\n",
    "    * Run and independent t-test using control and experimental data\n",
    "    * Store the p value for each test\n",
    "\n",
    "* Calculate the total number and overall proportion of simulations where the null hypothesis is rejected\n"
   ]
  },
  {
   "cell_type": "code",
   "execution_count": 5,
   "metadata": {},
   "outputs": [
    {
     "data": {
      "text/plain": [
       "0.495"
      ]
     },
     "execution_count": 5,
     "metadata": {},
     "output_type": "execute_result"
    }
   ],
   "source": [
    "# For reproducibility \n",
    "np.random.seed(10)\n",
    "\n",
    "# Initialize array to store results\n",
    "p = (np.empty(n_sim))\n",
    "p.fill(np.nan)\n",
    "\n",
    "#  Run a for loop for range of values in n_sim\n",
    "for s in range(n_sim):\n",
    "    \n",
    "    control = np.random.normal(loc=control_mean, \n",
    "                               scale=control_sd, \n",
    "                               size=sample_size)\n",
    "    experimental = np.random.normal(loc=experimental_mean, \n",
    "                                    scale=experimental_sd, \n",
    "                                    size=sample_size)\n",
    "    # obtain p-value using 'stats.ttest_ind()'\n",
    "    t_test = stats.ttest_ind(control, experimental)\n",
    "    # store p-value in p array\n",
    "    p[s] = t_test[1]\n",
    "\n",
    "# number of null hypothesis rejections\n",
    "num_null_rejects = np.sum(p < alpha)\n",
    "power = num_null_rejects / n_sim\n",
    "\n",
    "power\n",
    "\n",
    "# 0.495"
   ]
  },
  {
   "cell_type": "markdown",
   "metadata": {},
   "source": [
    "These results indicate that using 12 participants in each group and with given statistics, the statistical power of the experiment is 49%. This can be interpreted as follows:\n",
    "\n",
    "> **If a large effect (0.17 or greater) is truly present between control and experimental groups, then the null hypothesis (i.e. no difference with alpha 0.05) would be rejected 49% of the time. **"
   ]
  },
  {
   "cell_type": "markdown",
   "metadata": {},
   "source": [
    "## Sample size requirements for a given effect size\n",
    "\n",
    "Often in behavioral research 0.8 is accepted as a sufficient level of power.  \n",
    "\n",
    "Clearly, this is not the case for the experiment as currently designed. Determine the required sample size in order to identify a difference of 0.17 or greater between the group means with an 80% power."
   ]
  },
  {
   "cell_type": "code",
   "execution_count": 6,
   "metadata": {},
   "outputs": [],
   "source": [
    "# Required power\n",
    "target = 0.8"
   ]
  },
  {
   "cell_type": "code",
   "execution_count": 8,
   "metadata": {},
   "outputs": [
    {
     "name": "stdout",
     "output_type": "stream",
     "text": [
      "Required Sample Size to detect an effect of 0.17 given alpha = 0.05 and power = 0.8: 24.951708908275144\n"
     ]
    }
   ],
   "source": [
    "# Determine the sample size\n",
    "rqd_nobs = power_analysis.solve_power(effect_size=normalized_effect_size,\n",
    "                                      alpha=0.05,\n",
    "                                      power=0.8)\n",
    "\n",
    "print(f'Required Sample Size to detect an effect of {effect_size} given alpha = {alpha} and power = {target}: {rqd_nobs}')"
   ]
  },
  {
   "cell_type": "code",
   "execution_count": 9,
   "metadata": {},
   "outputs": [],
   "source": [
    "# Minimum sample size to start the simulations \n",
    "sample_size = 12\n",
    "null_rejected = 0\n",
    "n_sim = 10000"
   ]
  },
  {
   "cell_type": "markdown",
   "metadata": {},
   "source": [
    "As above, perform the following\n",
    "\n",
    "* Initialize an empty array for storing results\n",
    "* initialize a list for storing sample size x power summary\n",
    "* While current power is less than the target power\n",
    "    * Generate distributions for control and experimental groups using given statistics (as before)\n",
    "    * Run a t-test and store results\n",
    "    * Calculate current power \n",
    "    * Output current sample size and power calculated for inspection\n",
    "    * Store results: Sample size, power\n",
    "    * increase the sample size by 1 and repeat"
   ]
  },
  {
   "cell_type": "code",
   "execution_count": 10,
   "metadata": {},
   "outputs": [
    {
     "data": {
      "text/plain": [
       "{12: 0.4762,\n",
       " 13: 0.5201,\n",
       " 14: 0.5418,\n",
       " 15: 0.575,\n",
       " 16: 0.6051,\n",
       " 17: 0.6217,\n",
       " 18: 0.6589,\n",
       " 19: 0.6837,\n",
       " 20: 0.701,\n",
       " 21: 0.7316,\n",
       " 22: 0.7422,\n",
       " 23: 0.7662,\n",
       " 24: 0.7829,\n",
       " 25: 0.7974,\n",
       " 26: 0.8137}"
      ]
     },
     "execution_count": 10,
     "metadata": {},
     "output_type": "execute_result"
    }
   ],
   "source": [
    "np.random.seed(10)\n",
    "\n",
    "power_sample = {}\n",
    "\n",
    "# Keep increasing sample_size until target power is obtained\n",
    "while power < target:\n",
    "    # Initialize array to store results\n",
    "    p = (np.empty(n_sim))\n",
    "    p.fill(np.nan)\n",
    "\n",
    "    #  Run a for loop for range of values in n_sim\n",
    "    for s in range(n_sim):\n",
    "        control = np.random.normal(loc=control_mean, \n",
    "                                   scale=control_sd, \n",
    "                                   size=sample_size)\n",
    "        experimental = np.random.normal(loc=experimental_mean, \n",
    "                                        scale=experimental_sd, \n",
    "                                        size=sample_size)\n",
    "        # obtain p-value using 'stats.ttest_ind()'\n",
    "        t_test = stats.ttest_ind(control, experimental)\n",
    "        # store p-value in p array\n",
    "        p[s] = t_test[1]\n",
    "\n",
    "    # number of null hypothesis rejections\n",
    "    num_null_rejects = np.sum(p < alpha)\n",
    "    power = num_null_rejects / n_sim\n",
    "    \n",
    "    power_sample[sample_size] = power\n",
    "    sample_size += 1\n",
    "    \n",
    "power_sample"
   ]
  },
  {
   "cell_type": "markdown",
   "metadata": {},
   "source": [
    "You can also plot the calculated power against sample size to visually inspect the effect of increasing sample size. "
   ]
  },
  {
   "cell_type": "code",
   "execution_count": 11,
   "metadata": {},
   "outputs": [
    {
     "data": {
      "image/png": "[encoded data removed]",
      "text/plain": [
       "<Figure size 720x360 with 1 Axes>"
      ]
     },
     "metadata": {},
     "output_type": "display_data"
    }
   ],
   "source": [
    "# Plot a sample size X Power line graph \n",
    "fig, ax = plt.subplots(figsize=(10,5))\n",
    "# line plot with x-axis being sample_sizes & y-axis powers from power_sample dict\n",
    "sns.lineplot(power_sample.keys(), power_sample.values(), ax=ax)\n",
    "\n",
    "# set labels & title\n",
    "ax.set(xlabel='Number of Observations',\n",
    "       ylabel='Power',\n",
    "       title=f'Required Sample Size for Target Power of {target * 100}%\\nto Detect a Difference of {effect_size}')\n",
    "fig.show();"
   ]
  },
  {
   "cell_type": "markdown",
   "metadata": {},
   "source": [
    "This output indicates that in order to get the required power (80%) to detect a difference of 0.17, you would need a considerably higher number of patients. "
   ]
  },
  {
   "cell_type": "markdown",
   "metadata": {},
   "source": [
    "## BONUS: Investigating the relationship between Power, Sample Size, and Effect Size\n",
    "\n",
    "You've seen how to calculate power given alpha, sample size, and effect size. To further investigate this relationship, it is interesting to plot the relationship between power and sample size for various effect sizes. \n",
    "\n",
    "To do this, run multiple simulations for varying parameters. Then store the parameters and plot the resulting dataset. Specifically:\n",
    "\n",
    "1. Use a value of $\\alpha$ = 0.05 for all of your simulations\n",
    "2. Use the following effect sizes: [0.01, 0.05, 0.1, 0.15, 0.2, 0.3, 0.5]\n",
    "3. Use the sample sizes from 10 to 500\n",
    "4. For each effect size sample size combination, calculate the accompanying power\n",
    "5. Plot a line graph of the power vs sample size relationship. You should have 7 plots; one for each of the effect sizes listed above. All 7 plots can be on the same graph but should be labeled appropriately. Plot the power on the y-axis and sample size on the x-axis."
   ]
  },
  {
   "cell_type": "code",
   "execution_count": 16,
   "metadata": {
    "scrolled": true
   },
   "outputs": [
    {
     "data": {
      "text/html": [
       "<div>\n",
       "<style scoped>\n",
       "    .dataframe tbody tr th:only-of-type {\n",
       "        vertical-align: middle;\n",
       "    }\n",
       "\n",
       "    .dataframe tbody tr th {\n",
       "        vertical-align: top;\n",
       "    }\n",
       "\n",
       "    .dataframe thead th {\n",
       "        text-align: right;\n",
       "    }\n",
       "</style>\n",
       "<table border=\"1\" class=\"dataframe\">\n",
       "  <thead>\n",
       "    <tr style=\"text-align: right;\">\n",
       "      <th></th>\n",
       "      <th>10</th>\n",
       "      <th>11</th>\n",
       "      <th>12</th>\n",
       "      <th>13</th>\n",
       "      <th>14</th>\n",
       "      <th>15</th>\n",
       "      <th>16</th>\n",
       "      <th>17</th>\n",
       "      <th>18</th>\n",
       "      <th>19</th>\n",
       "      <th>...</th>\n",
       "      <th>491</th>\n",
       "      <th>492</th>\n",
       "      <th>493</th>\n",
       "      <th>494</th>\n",
       "      <th>495</th>\n",
       "      <th>496</th>\n",
       "      <th>497</th>\n",
       "      <th>498</th>\n",
       "      <th>499</th>\n",
       "      <th>500</th>\n",
       "    </tr>\n",
       "  </thead>\n",
       "  <tbody>\n",
       "    <tr>\n",
       "      <th>0.01</th>\n",
       "      <td>0.050051</td>\n",
       "      <td>0.050057</td>\n",
       "      <td>0.050063</td>\n",
       "      <td>0.050069</td>\n",
       "      <td>0.050074</td>\n",
       "      <td>0.050080</td>\n",
       "      <td>0.050086</td>\n",
       "      <td>0.050092</td>\n",
       "      <td>0.050097</td>\n",
       "      <td>0.050103</td>\n",
       "      <td>...</td>\n",
       "      <td>0.052811</td>\n",
       "      <td>0.052817</td>\n",
       "      <td>0.052823</td>\n",
       "      <td>0.052829</td>\n",
       "      <td>0.052834</td>\n",
       "      <td>0.052840</td>\n",
       "      <td>0.052846</td>\n",
       "      <td>0.052852</td>\n",
       "      <td>0.052857</td>\n",
       "      <td>0.052863</td>\n",
       "    </tr>\n",
       "    <tr>\n",
       "      <th>0.05</th>\n",
       "      <td>0.051287</td>\n",
       "      <td>0.051432</td>\n",
       "      <td>0.051576</td>\n",
       "      <td>0.051720</td>\n",
       "      <td>0.051864</td>\n",
       "      <td>0.052007</td>\n",
       "      <td>0.052151</td>\n",
       "      <td>0.052295</td>\n",
       "      <td>0.052439</td>\n",
       "      <td>0.052583</td>\n",
       "      <td>...</td>\n",
       "      <td>0.122584</td>\n",
       "      <td>0.122735</td>\n",
       "      <td>0.122887</td>\n",
       "      <td>0.123039</td>\n",
       "      <td>0.123191</td>\n",
       "      <td>0.123343</td>\n",
       "      <td>0.123495</td>\n",
       "      <td>0.123647</td>\n",
       "      <td>0.123799</td>\n",
       "      <td>0.123951</td>\n",
       "    </tr>\n",
       "    <tr>\n",
       "      <th>0.10</th>\n",
       "      <td>0.055161</td>\n",
       "      <td>0.055741</td>\n",
       "      <td>0.056320</td>\n",
       "      <td>0.056899</td>\n",
       "      <td>0.057479</td>\n",
       "      <td>0.058058</td>\n",
       "      <td>0.058638</td>\n",
       "      <td>0.059218</td>\n",
       "      <td>0.059798</td>\n",
       "      <td>0.060378</td>\n",
       "      <td>...</td>\n",
       "      <td>0.346760</td>\n",
       "      <td>0.347348</td>\n",
       "      <td>0.347936</td>\n",
       "      <td>0.348524</td>\n",
       "      <td>0.349111</td>\n",
       "      <td>0.349698</td>\n",
       "      <td>0.350285</td>\n",
       "      <td>0.350872</td>\n",
       "      <td>0.351458</td>\n",
       "      <td>0.352044</td>\n",
       "    </tr>\n",
       "    <tr>\n",
       "      <th>0.15</th>\n",
       "      <td>0.061655</td>\n",
       "      <td>0.062969</td>\n",
       "      <td>0.064283</td>\n",
       "      <td>0.065599</td>\n",
       "      <td>0.066915</td>\n",
       "      <td>0.068232</td>\n",
       "      <td>0.069551</td>\n",
       "      <td>0.070871</td>\n",
       "      <td>0.072193</td>\n",
       "      <td>0.073516</td>\n",
       "      <td>...</td>\n",
       "      <td>0.651000</td>\n",
       "      <td>0.651885</td>\n",
       "      <td>0.652769</td>\n",
       "      <td>0.653651</td>\n",
       "      <td>0.654531</td>\n",
       "      <td>0.655410</td>\n",
       "      <td>0.656287</td>\n",
       "      <td>0.657162</td>\n",
       "      <td>0.658035</td>\n",
       "      <td>0.658907</td>\n",
       "    </tr>\n",
       "    <tr>\n",
       "      <th>0.20</th>\n",
       "      <td>0.070821</td>\n",
       "      <td>0.073180</td>\n",
       "      <td>0.075541</td>\n",
       "      <td>0.077906</td>\n",
       "      <td>0.080274</td>\n",
       "      <td>0.082647</td>\n",
       "      <td>0.085023</td>\n",
       "      <td>0.087403</td>\n",
       "      <td>0.089787</td>\n",
       "      <td>0.092175</td>\n",
       "      <td>...</td>\n",
       "      <td>0.879131</td>\n",
       "      <td>0.879771</td>\n",
       "      <td>0.880409</td>\n",
       "      <td>0.881044</td>\n",
       "      <td>0.881675</td>\n",
       "      <td>0.882304</td>\n",
       "      <td>0.882930</td>\n",
       "      <td>0.883552</td>\n",
       "      <td>0.884172</td>\n",
       "      <td>0.884788</td>\n",
       "    </tr>\n",
       "    <tr>\n",
       "      <th>0.30</th>\n",
       "      <td>0.097425</td>\n",
       "      <td>0.102851</td>\n",
       "      <td>0.108293</td>\n",
       "      <td>0.113748</td>\n",
       "      <td>0.119216</td>\n",
       "      <td>0.124698</td>\n",
       "      <td>0.130191</td>\n",
       "      <td>0.135696</td>\n",
       "      <td>0.141211</td>\n",
       "      <td>0.146735</td>\n",
       "      <td>...</td>\n",
       "      <td>0.996890</td>\n",
       "      <td>0.996935</td>\n",
       "      <td>0.996979</td>\n",
       "      <td>0.997023</td>\n",
       "      <td>0.997066</td>\n",
       "      <td>0.997109</td>\n",
       "      <td>0.997151</td>\n",
       "      <td>0.997192</td>\n",
       "      <td>0.997233</td>\n",
       "      <td>0.997273</td>\n",
       "    </tr>\n",
       "    <tr>\n",
       "      <th>0.50</th>\n",
       "      <td>0.185096</td>\n",
       "      <td>0.200627</td>\n",
       "      <td>0.216143</td>\n",
       "      <td>0.231628</td>\n",
       "      <td>0.247066</td>\n",
       "      <td>0.262443</td>\n",
       "      <td>0.277745</td>\n",
       "      <td>0.292957</td>\n",
       "      <td>0.308068</td>\n",
       "      <td>0.323066</td>\n",
       "      <td>...</td>\n",
       "      <td>1.000000</td>\n",
       "      <td>1.000000</td>\n",
       "      <td>1.000000</td>\n",
       "      <td>1.000000</td>\n",
       "      <td>1.000000</td>\n",
       "      <td>1.000000</td>\n",
       "      <td>1.000000</td>\n",
       "      <td>1.000000</td>\n",
       "      <td>1.000000</td>\n",
       "      <td>1.000000</td>\n",
       "    </tr>\n",
       "  </tbody>\n",
       "</table>\n",
       "<p>7 rows × 491 columns</p>\n",
       "</div>"
      ],
      "text/plain": [
       "           10        11        12        13        14        15        16   \\\n",
       "0.01  0.050051  0.050057  0.050063  0.050069  0.050074  0.050080  0.050086   \n",
       "0.05  0.051287  0.051432  0.051576  0.051720  0.051864  0.052007  0.052151   \n",
       "0.10  0.055161  0.055741  0.056320  0.056899  0.057479  0.058058  0.058638   \n",
       "0.15  0.061655  0.062969  0.064283  0.065599  0.066915  0.068232  0.069551   \n",
       "0.20  0.070821  0.073180  0.075541  0.077906  0.080274  0.082647  0.085023   \n",
       "0.30  0.097425  0.102851  0.108293  0.113748  0.119216  0.124698  0.130191   \n",
       "0.50  0.185096  0.200627  0.216143  0.231628  0.247066  0.262443  0.277745   \n",
       "\n",
       "           17        18        19   ...       491       492       493  \\\n",
       "0.01  0.050092  0.050097  0.050103  ...  0.052811  0.052817  0.052823   \n",
       "0.05  0.052295  0.052439  0.052583  ...  0.122584  0.122735  0.122887   \n",
       "0.10  0.059218  0.059798  0.060378  ...  0.346760  0.347348  0.347936   \n",
       "0.15  0.070871  0.072193  0.073516  ...  0.651000  0.651885  0.652769   \n",
       "0.20  0.087403  0.089787  0.092175  ...  0.879131  0.879771  0.880409   \n",
       "0.30  0.135696  0.141211  0.146735  ...  0.996890  0.996935  0.996979   \n",
       "0.50  0.292957  0.308068  0.323066  ...  1.000000  1.000000  1.000000   \n",
       "\n",
       "           494       495       496       497       498       499       500  \n",
       "0.01  0.052829  0.052834  0.052840  0.052846  0.052852  0.052857  0.052863  \n",
       "0.05  0.123039  0.123191  0.123343  0.123495  0.123647  0.123799  0.123951  \n",
       "0.10  0.348524  0.349111  0.349698  0.350285  0.350872  0.351458  0.352044  \n",
       "0.15  0.653651  0.654531  0.655410  0.656287  0.657162  0.658035  0.658907  \n",
       "0.20  0.881044  0.881675  0.882304  0.882930  0.883552  0.884172  0.884788  \n",
       "0.30  0.997023  0.997066  0.997109  0.997151  0.997192  0.997233  0.997273  \n",
       "0.50  1.000000  1.000000  1.000000  1.000000  1.000000  1.000000  1.000000  \n",
       "\n",
       "[7 rows x 491 columns]"
      ]
     },
     "execution_count": 16,
     "metadata": {},
     "output_type": "execute_result"
    }
   ],
   "source": [
    "alpha = 0.05\n",
    "effect_sizes = [0.01, 0.05, 0.1, 0.15, 0.2, 0.3, 0.5]\n",
    "sample_sizes = np.array(range(10,501))\n",
    "\n",
    "# initialize storage dictionary\n",
    "# format: rows[effect_size] = temp_dict\n",
    "rows = {}\n",
    "\n",
    "# iterate through effect_sizes list\n",
    "for effect in effect_sizes:\n",
    "    # intialize temporary dictionary to store power for each sample size\n",
    "    # format: temp_dict[sample_size] = power\n",
    "    temp_dict = {}\n",
    "    # iterate through each sample_size\n",
    "    for nobs in sample_sizes:\n",
    "        # calculate power using '.solve_power()'\n",
    "        p = power_analysis.solve_power(effect_size=effect,\n",
    "                                       nobs1=nobs,\n",
    "                                       alpha=alpha)\n",
    "        # store in temp_dict \n",
    "        temp_dict[nobs] = p\n",
    "    # store each temp_dict in corresponding 'rows[effect_size]'\n",
    "    rows[effect] = temp_dict\n",
    "    \n",
    "# convert rows to DataFrame\n",
    "df = pd.DataFrame.from_dict(rows, orient='index')\n",
    "df"
   ]
  },
  {
   "cell_type": "code",
   "execution_count": 17,
   "metadata": {},
   "outputs": [
    {
     "data": {
      "image/png": "[encoded data removed]",
      "text/plain": [
       "<Figure size 1080x720 with 1 Axes>"
      ]
     },
     "metadata": {},
     "output_type": "display_data"
    }
   ],
   "source": [
    "fig, ax = plt.subplots(figsize=(15,10))\n",
    "\n",
    "# iterate through each index in df.index (effect_sizes)\n",
    "for effect in df.index:\n",
    "    # plot corresponding sample_size & power line\n",
    "    sns.lineplot(df.columns, df.loc[effect],\n",
    "                 label=f'es={effect}',\n",
    "                 ax=ax)\n",
    "\n",
    "# set labels & title\n",
    "ax.set(xlabel='Number of Observations',\n",
    "       ylabel='Power',\n",
    "       title='Power vs. Sample Size Relationship for Various Effect Sizes')\n",
    "\n",
    "ax.legend()\n",
    "fig.show();"
   ]
  },
  {
   "cell_type": "markdown",
   "metadata": {},
   "source": [
    "## Summary\n",
    "\n",
    "In this lesson, you gained further practice with \"statistical power\" and how it can be used to analyze experimental design. You ran a simulation to determine the sample size that would provide a given value of power (for a given alpha and effect size). Running simulations like this, as well as further investigations regarding required sample sizes for higher power thresholds or smaller effect sizes is critical in designing meaningful experiments where one can be confident in the subsequent conclusions drawn."
   ]
  }
 ],
 "metadata": {
  "kernelspec": {
   "display_name": "Python 3",
   "language": "python",
   "name": "python3"
  },
  "language_info": {
   "codemirror_mode": {
    "name": "ipython",
    "version": 3
   },
   "file_extension": ".py",
   "mimetype": "text/x-python",
   "name": "python",
   "nbconvert_exporter": "python",
   "pygments_lexer": "ipython3",
   "version": "3.8.5"
  },
  "toc": {
   "base_numbering": 1,
   "nav_menu": {},
   "number_sections": true,
   "sideBar": true,
   "skip_h1_title": false,
   "title_cell": "Table of Contents",
   "title_sidebar": "Contents",
   "toc_cell": false,
   "toc_position": {},
   "toc_section_display": true,
   "toc_window_display": false
  }
 },
 "nbformat": 4,
 "nbformat_minor": 2
}
